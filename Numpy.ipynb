{
 "cells": [
  {
   "cell_type": "markdown",
   "id": "49465505",
   "metadata": {},
   "source": [
    "# Numpy"
   ]
  },
  {
   "cell_type": "code",
   "execution_count": 1,
   "id": "4dd84b32",
   "metadata": {},
   "outputs": [],
   "source": [
    "import numpy as np"
   ]
  },
  {
   "cell_type": "code",
   "execution_count": 2,
   "id": "e8e3b21e",
   "metadata": {},
   "outputs": [
    {
     "name": "stdout",
     "output_type": "stream",
     "text": [
      "[1 2 3 4 5]\n"
     ]
    }
   ],
   "source": [
    "array=np.array([1,2,3,4,5])\n",
    "print(array)"
   ]
  },
  {
   "cell_type": "code",
   "execution_count": 4,
   "id": "02162d25",
   "metadata": {},
   "outputs": [
    {
     "data": {
      "text/plain": [
       "numpy.ndarray"
      ]
     },
     "execution_count": 4,
     "metadata": {},
     "output_type": "execute_result"
    }
   ],
   "source": [
    "type(array)"
   ]
  },
  {
   "cell_type": "markdown",
   "id": "453573f8",
   "metadata": {},
   "source": [
    "# Dimensions in Arrays"
   ]
  },
  {
   "cell_type": "code",
   "execution_count": 5,
   "id": "41254d9a",
   "metadata": {},
   "outputs": [],
   "source": [
    "array=np.array(50)"
   ]
  },
  {
   "cell_type": "code",
   "execution_count": 6,
   "id": "27b46b68",
   "metadata": {},
   "outputs": [
    {
     "data": {
      "text/plain": [
       "array(50)"
      ]
     },
     "execution_count": 6,
     "metadata": {},
     "output_type": "execute_result"
    }
   ],
   "source": [
    "array"
   ]
  },
  {
   "cell_type": "markdown",
   "id": "e9b29008",
   "metadata": {},
   "source": [
    "# 1-D array"
   ]
  },
  {
   "cell_type": "code",
   "execution_count": 9,
   "id": "69cb4371",
   "metadata": {},
   "outputs": [
    {
     "name": "stdout",
     "output_type": "stream",
     "text": [
      "[1 2 3]\n"
     ]
    }
   ],
   "source": [
    "array=np.array([1,2,3])\n",
    "print(array)"
   ]
  },
  {
   "cell_type": "markdown",
   "id": "dc298109",
   "metadata": {},
   "source": [
    "# 2-D array"
   ]
  },
  {
   "cell_type": "code",
   "execution_count": 12,
   "id": "47bacfa2",
   "metadata": {},
   "outputs": [
    {
     "data": {
      "text/plain": [
       "array([[1, 2, 3, 4],\n",
       "       [5, 6, 7, 8]])"
      ]
     },
     "execution_count": 12,
     "metadata": {},
     "output_type": "execute_result"
    }
   ],
   "source": [
    "array=np.array([[1,2,3,4],[5,6,7,8]])\n",
    "array"
   ]
  },
  {
   "cell_type": "markdown",
   "id": "5d436668",
   "metadata": {},
   "source": [
    "# 3-D array"
   ]
  },
  {
   "cell_type": "code",
   "execution_count": 18,
   "id": "0b22eace",
   "metadata": {},
   "outputs": [
    {
     "name": "stdout",
     "output_type": "stream",
     "text": [
      "[[[1 2 3]\n",
      "  [4 5 6]]\n",
      "\n",
      " [[1 2 3]\n",
      "  [4 5 6]]]\n"
     ]
    }
   ],
   "source": [
    "array=np.array([[[1, 2, 3], [4, 5, 6]], [[1, 2, 3], [4, 5, 6]]])\n",
    "print(array)"
   ]
  },
  {
   "cell_type": "code",
   "execution_count": 19,
   "id": "8140235e",
   "metadata": {},
   "outputs": [
    {
     "data": {
      "text/plain": [
       "(2, 2, 3)"
      ]
     },
     "execution_count": 19,
     "metadata": {},
     "output_type": "execute_result"
    }
   ],
   "source": [
    "array.shape"
   ]
  },
  {
   "cell_type": "code",
   "execution_count": 20,
   "id": "281066d8",
   "metadata": {},
   "outputs": [],
   "source": [
    "a = np.array(42)\n",
    "b = np.array([1, 2, 3, 4, 5])\n",
    "c = np.array([[1, 2, 3], [4, 5, 6]])\n",
    "d = np.array([[[1, 2, 3], [4, 5, 6]], [[1, 2, 3], [4, 5, 6]]])"
   ]
  },
  {
   "cell_type": "code",
   "execution_count": 21,
   "id": "3a85b07c",
   "metadata": {},
   "outputs": [
    {
     "name": "stdout",
     "output_type": "stream",
     "text": [
      "0\n",
      "1\n",
      "2\n",
      "3\n"
     ]
    }
   ],
   "source": [
    "print(a.ndim)\n",
    "print(b.ndim)\n",
    "print(c.ndim)\n",
    "print(d.ndim)"
   ]
  },
  {
   "cell_type": "markdown",
   "id": "04b055bc",
   "metadata": {},
   "source": [
    "# High Dimensions Array"
   ]
  },
  {
   "cell_type": "code",
   "execution_count": 22,
   "id": "e4ff741d",
   "metadata": {},
   "outputs": [],
   "source": [
    "array=np.array([1,2,3,4,5],ndmin=5)"
   ]
  },
  {
   "cell_type": "code",
   "execution_count": 23,
   "id": "ee40e03c",
   "metadata": {},
   "outputs": [
    {
     "name": "stdout",
     "output_type": "stream",
     "text": [
      "[[[[[1 2 3 4 5]]]]]\n"
     ]
    }
   ],
   "source": [
    "print(array)"
   ]
  },
  {
   "cell_type": "markdown",
   "id": "7a9c47b6",
   "metadata": {},
   "source": [
    "# Access Array Elements"
   ]
  },
  {
   "cell_type": "code",
   "execution_count": 24,
   "id": "56be7ec6",
   "metadata": {},
   "outputs": [
    {
     "name": "stdout",
     "output_type": "stream",
     "text": [
      "1\n"
     ]
    }
   ],
   "source": [
    "array=np.array([1,2,3,4])\n",
    "print(array[0])"
   ]
  },
  {
   "cell_type": "code",
   "execution_count": 25,
   "id": "540a1ae1",
   "metadata": {},
   "outputs": [
    {
     "data": {
      "text/plain": [
       "3"
      ]
     },
     "execution_count": 25,
     "metadata": {},
     "output_type": "execute_result"
    }
   ],
   "source": [
    "array[2]"
   ]
  },
  {
   "cell_type": "code",
   "execution_count": 26,
   "id": "783e7073",
   "metadata": {},
   "outputs": [
    {
     "data": {
      "text/plain": [
       "5"
      ]
     },
     "execution_count": 26,
     "metadata": {},
     "output_type": "execute_result"
    }
   ],
   "source": [
    "array[1]+array[2]"
   ]
  },
  {
   "cell_type": "code",
   "execution_count": 27,
   "id": "f8fffe7e",
   "metadata": {},
   "outputs": [
    {
     "data": {
      "text/plain": [
       "array([1, 2, 3, 4])"
      ]
     },
     "execution_count": 27,
     "metadata": {},
     "output_type": "execute_result"
    }
   ],
   "source": [
    "array"
   ]
  },
  {
   "cell_type": "markdown",
   "id": "a9b64695",
   "metadata": {},
   "source": [
    "# Access 2-D Arrays "
   ]
  },
  {
   "cell_type": "code",
   "execution_count": 28,
   "id": "82a90d19",
   "metadata": {},
   "outputs": [
    {
     "data": {
      "text/plain": [
       "array([[ 1,  2,  3,  4,  5],\n",
       "       [ 6,  7,  8,  9, 10]])"
      ]
     },
     "execution_count": 28,
     "metadata": {},
     "output_type": "execute_result"
    }
   ],
   "source": [
    "array=np.array([[1,2,3,4,5],[6,7,8,9,10]])\n",
    "array"
   ]
  },
  {
   "cell_type": "code",
   "execution_count": 30,
   "id": "1971586e",
   "metadata": {},
   "outputs": [
    {
     "name": "stdout",
     "output_type": "stream",
     "text": [
      "2nd element on 1st row:  2\n"
     ]
    }
   ],
   "source": [
    "print('2nd element on 1st row: ',array[0,1])"
   ]
  },
  {
   "cell_type": "code",
   "execution_count": 31,
   "id": "50822908",
   "metadata": {},
   "outputs": [
    {
     "name": "stdout",
     "output_type": "stream",
     "text": [
      "5th element on 2nd row:  10\n"
     ]
    }
   ],
   "source": [
    "print('5th element on 2nd row: ',array[1,4])"
   ]
  },
  {
   "cell_type": "code",
   "execution_count": 32,
   "id": "c2dd9a5b",
   "metadata": {},
   "outputs": [
    {
     "name": "stdout",
     "output_type": "stream",
     "text": [
      "[1 2 3 4 5]\n"
     ]
    }
   ],
   "source": [
    "print(array[0,:])"
   ]
  },
  {
   "cell_type": "code",
   "execution_count": 33,
   "id": "145a751c",
   "metadata": {},
   "outputs": [
    {
     "name": "stdout",
     "output_type": "stream",
     "text": [
      "[2 7]\n"
     ]
    }
   ],
   "source": [
    "print(array[:,1])"
   ]
  },
  {
   "cell_type": "markdown",
   "id": "f12cd92b",
   "metadata": {},
   "source": [
    "# Access 3-D Arrays"
   ]
  },
  {
   "cell_type": "code",
   "execution_count": 34,
   "id": "e0bb4891",
   "metadata": {},
   "outputs": [
    {
     "name": "stdout",
     "output_type": "stream",
     "text": [
      "[[[ 1  2  3]\n",
      "  [ 4  5  6]]\n",
      "\n",
      " [[ 7  8  9]\n",
      "  [10 11 12]]]\n"
     ]
    }
   ],
   "source": [
    "array=np.array([[[1,2,3],[4,5,6]],[[7,8,9],[10,11,12]]])\n",
    "print(array)"
   ]
  },
  {
   "cell_type": "code",
   "execution_count": 35,
   "id": "ce91795f",
   "metadata": {},
   "outputs": [
    {
     "name": "stdout",
     "output_type": "stream",
     "text": [
      "6\n"
     ]
    }
   ],
   "source": [
    "print(array[0,1,2])"
   ]
  },
  {
   "cell_type": "code",
   "execution_count": 36,
   "id": "21f97171",
   "metadata": {},
   "outputs": [
    {
     "data": {
      "text/plain": [
       "12"
      ]
     },
     "execution_count": 36,
     "metadata": {},
     "output_type": "execute_result"
    }
   ],
   "source": [
    "array[1,1,2]"
   ]
  },
  {
   "cell_type": "markdown",
   "id": "af381822",
   "metadata": {},
   "source": [
    "# Negative Indexing"
   ]
  },
  {
   "cell_type": "code",
   "execution_count": 38,
   "id": "3b3975f8",
   "metadata": {},
   "outputs": [
    {
     "name": "stdout",
     "output_type": "stream",
     "text": [
      "Last element from 2nd dim:  10\n"
     ]
    }
   ],
   "source": [
    "array=np.array([[1,2,3,4,5],[6,7,8,9,10]])\n",
    "print('Last element from 2nd dim: ', array[1, -1])"
   ]
  },
  {
   "cell_type": "markdown",
   "id": "2570944e",
   "metadata": {},
   "source": [
    "# NumPy Array Slicing"
   ]
  },
  {
   "cell_type": "code",
   "execution_count": 39,
   "id": "ad6034c5",
   "metadata": {},
   "outputs": [
    {
     "data": {
      "text/plain": [
       "array([2, 3, 4, 5])"
      ]
     },
     "execution_count": 39,
     "metadata": {},
     "output_type": "execute_result"
    }
   ],
   "source": [
    "array=np.array([1,2,3,4,5,6])\n",
    "array[1:5]"
   ]
  },
  {
   "cell_type": "code",
   "execution_count": 41,
   "id": "8d615209",
   "metadata": {},
   "outputs": [
    {
     "data": {
      "text/plain": [
       "array([4, 5, 6])"
      ]
     },
     "execution_count": 41,
     "metadata": {},
     "output_type": "execute_result"
    }
   ],
   "source": [
    "array[3:]"
   ]
  },
  {
   "cell_type": "code",
   "execution_count": 42,
   "id": "64ee80cb",
   "metadata": {},
   "outputs": [
    {
     "data": {
      "text/plain": [
       "array([1, 2, 3, 4, 5])"
      ]
     },
     "execution_count": 42,
     "metadata": {},
     "output_type": "execute_result"
    }
   ],
   "source": [
    "array[:5]"
   ]
  },
  {
   "cell_type": "code",
   "execution_count": 43,
   "id": "882a2514",
   "metadata": {},
   "outputs": [
    {
     "data": {
      "text/plain": [
       "array([1, 2, 3, 4, 5])"
      ]
     },
     "execution_count": 43,
     "metadata": {},
     "output_type": "execute_result"
    }
   ],
   "source": [
    "array[:-1]"
   ]
  },
  {
   "cell_type": "code",
   "execution_count": 45,
   "id": "a2c0dc65",
   "metadata": {},
   "outputs": [
    {
     "data": {
      "text/plain": [
       "array([4, 5])"
      ]
     },
     "execution_count": 45,
     "metadata": {},
     "output_type": "execute_result"
    }
   ],
   "source": [
    "array[-3:-1]"
   ]
  },
  {
   "cell_type": "code",
   "execution_count": 46,
   "id": "a1e57387",
   "metadata": {},
   "outputs": [
    {
     "data": {
      "text/plain": [
       "array([2, 4])"
      ]
     },
     "execution_count": 46,
     "metadata": {},
     "output_type": "execute_result"
    }
   ],
   "source": [
    "array[1:5:2]"
   ]
  },
  {
   "cell_type": "code",
   "execution_count": 47,
   "id": "3eccb06e",
   "metadata": {},
   "outputs": [
    {
     "data": {
      "text/plain": [
       "array([6, 7, 8])"
      ]
     },
     "execution_count": 47,
     "metadata": {},
     "output_type": "execute_result"
    }
   ],
   "source": [
    "array=np.array([[1,2,3,4,5],[6,7,8,9,10]])\n",
    "array[1,:3]"
   ]
  },
  {
   "cell_type": "code",
   "execution_count": 49,
   "id": "f06ad5d4",
   "metadata": {},
   "outputs": [
    {
     "data": {
      "text/plain": [
       "array([[ 1,  2,  3,  4,  5],\n",
       "       [ 6,  7,  8,  9, 10]])"
      ]
     },
     "execution_count": 49,
     "metadata": {},
     "output_type": "execute_result"
    }
   ],
   "source": [
    "array"
   ]
  },
  {
   "cell_type": "code",
   "execution_count": 50,
   "id": "6c4d050e",
   "metadata": {},
   "outputs": [
    {
     "data": {
      "text/plain": [
       "array([[2, 3, 4],\n",
       "       [7, 8, 9]])"
      ]
     },
     "execution_count": 50,
     "metadata": {},
     "output_type": "execute_result"
    }
   ],
   "source": [
    "array[0:2,1:4]"
   ]
  },
  {
   "cell_type": "code",
   "execution_count": 51,
   "id": "972edaf2",
   "metadata": {},
   "outputs": [
    {
     "data": {
      "text/plain": [
       "dtype('int32')"
      ]
     },
     "execution_count": 51,
     "metadata": {},
     "output_type": "execute_result"
    }
   ],
   "source": [
    "array=np.array([1,2,3])\n",
    "array.dtype"
   ]
  },
  {
   "cell_type": "code",
   "execution_count": 52,
   "id": "d48be6bd",
   "metadata": {},
   "outputs": [
    {
     "data": {
      "text/plain": [
       "dtype('<U6')"
      ]
     },
     "execution_count": 52,
     "metadata": {},
     "output_type": "execute_result"
    }
   ],
   "source": [
    "array=np.array(['apple', 'banana', 'cherry'])\n",
    "array.dtype"
   ]
  },
  {
   "cell_type": "code",
   "execution_count": 57,
   "id": "3b560ec8",
   "metadata": {},
   "outputs": [
    {
     "name": "stdout",
     "output_type": "stream",
     "text": [
      "[b'1' b'2' b'3' b'4']\n",
      "|S1\n"
     ]
    }
   ],
   "source": [
    "array = np.array([1, 2, 3, 4], dtype='S')\n",
    "print(array)\n",
    "print(array.dtype)"
   ]
  },
  {
   "cell_type": "code",
   "execution_count": 58,
   "id": "2e9e2c65",
   "metadata": {},
   "outputs": [
    {
     "name": "stdout",
     "output_type": "stream",
     "text": [
      "[1 2 3 4]\n",
      "int32\n"
     ]
    }
   ],
   "source": [
    "array = np.array([1, 2, 3, 4], dtype='i4')\n",
    "print(array)\n",
    "print(array.dtype)"
   ]
  },
  {
   "cell_type": "markdown",
   "id": "738210f3",
   "metadata": {},
   "source": [
    "# Converting Data Type on Existing Arrays"
   ]
  },
  {
   "cell_type": "code",
   "execution_count": 59,
   "id": "0b8efd8d",
   "metadata": {},
   "outputs": [
    {
     "name": "stdout",
     "output_type": "stream",
     "text": [
      "[1.1 2.1 3.1]\n",
      "[1 2 3]\n",
      "int32\n"
     ]
    }
   ],
   "source": [
    "array=np.array([1.1,2.1,3.1])\n",
    "new_array=array.astype('i')\n",
    "print(array)\n",
    "print(new_array)\n",
    "print(new_array.dtype)"
   ]
  },
  {
   "cell_type": "code",
   "execution_count": 60,
   "id": "093ea472",
   "metadata": {},
   "outputs": [
    {
     "name": "stdout",
     "output_type": "stream",
     "text": [
      "[ True False  True]\n",
      "bool\n"
     ]
    }
   ],
   "source": [
    "array=np.array([1,0,3])\n",
    "new_array=array.astype(bool)\n",
    "print(new_array)\n",
    "print(new_array.dtype)"
   ]
  },
  {
   "cell_type": "markdown",
   "id": "34c7c49c",
   "metadata": {},
   "source": [
    "# NumPy Array Copy vs View"
   ]
  },
  {
   "cell_type": "code",
   "execution_count": 61,
   "id": "939d9829",
   "metadata": {},
   "outputs": [],
   "source": [
    "#Copy"
   ]
  },
  {
   "cell_type": "code",
   "execution_count": 71,
   "id": "5ad879d8",
   "metadata": {},
   "outputs": [
    {
     "name": "stdout",
     "output_type": "stream",
     "text": [
      "[ 1  2 54  4  5]\n",
      "[1 2 3 4 5]\n"
     ]
    }
   ],
   "source": [
    "array=np.array([1,2,3,4,5])\n",
    "x=array.copy()\n",
    "array[2]=54\n",
    "print(array)\n",
    "print(x)"
   ]
  },
  {
   "cell_type": "code",
   "execution_count": 72,
   "id": "5b021140",
   "metadata": {},
   "outputs": [],
   "source": [
    "#View"
   ]
  },
  {
   "cell_type": "code",
   "execution_count": 73,
   "id": "de0ddfbe",
   "metadata": {},
   "outputs": [
    {
     "name": "stdout",
     "output_type": "stream",
     "text": [
      "[54  2  3  4  5]\n",
      "[54  2  3  4  5]\n"
     ]
    }
   ],
   "source": [
    "array=np.array([1,2,3,4,5])\n",
    "x=array.view()\n",
    "array[0]=54\n",
    "print(array)\n",
    "print(x)"
   ]
  },
  {
   "cell_type": "markdown",
   "id": "0a02705c",
   "metadata": {},
   "source": [
    "# Check if Array Owns its Data"
   ]
  },
  {
   "cell_type": "code",
   "execution_count": 75,
   "id": "4a669fe9",
   "metadata": {},
   "outputs": [],
   "source": [
    "array=np.array([1,2,3,4,5])"
   ]
  },
  {
   "cell_type": "code",
   "execution_count": 76,
   "id": "b86987e9",
   "metadata": {},
   "outputs": [
    {
     "name": "stdout",
     "output_type": "stream",
     "text": [
      "None\n",
      "[1 2 3 4 5]\n"
     ]
    }
   ],
   "source": [
    "x=array.copy()\n",
    "y=array.view()\n",
    "print(x.base)\n",
    "print(y.base)"
   ]
  },
  {
   "cell_type": "markdown",
   "id": "8683aaf4",
   "metadata": {},
   "source": [
    "# Shape of an Array"
   ]
  },
  {
   "cell_type": "code",
   "execution_count": 77,
   "id": "ce6015af",
   "metadata": {},
   "outputs": [
    {
     "data": {
      "text/plain": [
       "(2, 4)"
      ]
     },
     "execution_count": 77,
     "metadata": {},
     "output_type": "execute_result"
    }
   ],
   "source": [
    "array=np.array([[1,2,3,4],[5,6,7,8]])\n",
    "array.shape"
   ]
  },
  {
   "cell_type": "code",
   "execution_count": 78,
   "id": "2a6e642e",
   "metadata": {},
   "outputs": [
    {
     "name": "stdout",
     "output_type": "stream",
     "text": [
      "[[[[[1 2 3 4]]]]]\n"
     ]
    }
   ],
   "source": [
    "array=np.array([1,2,3,4],ndmin=5)\n",
    "print(array)"
   ]
  },
  {
   "cell_type": "code",
   "execution_count": 79,
   "id": "cd3fa936",
   "metadata": {},
   "outputs": [
    {
     "data": {
      "text/plain": [
       "(1, 1, 1, 1, 4)"
      ]
     },
     "execution_count": 79,
     "metadata": {},
     "output_type": "execute_result"
    }
   ],
   "source": [
    "array.shape"
   ]
  },
  {
   "cell_type": "markdown",
   "id": "67cd3a68",
   "metadata": {},
   "source": [
    "# Reshaping arrays"
   ]
  },
  {
   "cell_type": "code",
   "execution_count": 82,
   "id": "c15837c0",
   "metadata": {},
   "outputs": [
    {
     "name": "stdout",
     "output_type": "stream",
     "text": [
      "[[ 1  2  3]\n",
      " [ 4  5  6]\n",
      " [ 7  8  9]\n",
      " [10 11 12]]\n"
     ]
    }
   ],
   "source": [
    "array=np.array([1,2,3,4,5,6,7,8,9,10,11,12])\n",
    "new_array=array.reshape(4,3)\n",
    "print(new_array)"
   ]
  },
  {
   "cell_type": "code",
   "execution_count": 83,
   "id": "69d6f0d5",
   "metadata": {},
   "outputs": [
    {
     "name": "stdout",
     "output_type": "stream",
     "text": [
      "[[[ 1  2]\n",
      "  [ 3  4]\n",
      "  [ 5  6]]\n",
      "\n",
      " [[ 7  8]\n",
      "  [ 9 10]\n",
      "  [11 12]]]\n"
     ]
    }
   ],
   "source": [
    "array=np.array([1,2,3,4,5,6,7,8,9,10,11,12])\n",
    "new_array=array.reshape(2,3,2)\n",
    "print(new_array)"
   ]
  },
  {
   "cell_type": "code",
   "execution_count": 84,
   "id": "fad8f50c",
   "metadata": {},
   "outputs": [
    {
     "name": "stdout",
     "output_type": "stream",
     "text": [
      "[1 2 3 4 5 6 7 8]\n"
     ]
    }
   ],
   "source": [
    "array=np.array([1,2,3,4,5,6,7,8])\n",
    "print(array.reshape(2,4).base)"
   ]
  },
  {
   "cell_type": "code",
   "execution_count": 85,
   "id": "c8fdbcf5",
   "metadata": {},
   "outputs": [
    {
     "name": "stdout",
     "output_type": "stream",
     "text": [
      "[[[ 1  2  3]\n",
      "  [ 4  5  6]]\n",
      "\n",
      " [[ 7  8  9]\n",
      "  [10 11 12]]]\n"
     ]
    }
   ],
   "source": [
    "array=np.array([1,2,3,4,5,6,7,8,9,10,11,12])\n",
    "new_array=array.reshape(2,2,-1)\n",
    "print(new_array)"
   ]
  },
  {
   "cell_type": "code",
   "execution_count": 86,
   "id": "c0b26e1d",
   "metadata": {},
   "outputs": [
    {
     "name": "stdout",
     "output_type": "stream",
     "text": [
      "[1 2 3 4 5 6]\n"
     ]
    }
   ],
   "source": [
    "array = np.array([[1, 2, 3], [4, 5, 6]])\n",
    "new_array = array.reshape(-1)\n",
    "print(new_array)"
   ]
  },
  {
   "cell_type": "markdown",
   "id": "e6121d8e",
   "metadata": {},
   "source": [
    "# NumPy Array Iterating"
   ]
  },
  {
   "cell_type": "code",
   "execution_count": 87,
   "id": "51e6f3d5",
   "metadata": {},
   "outputs": [
    {
     "name": "stdout",
     "output_type": "stream",
     "text": [
      "1\n",
      "2\n",
      "3\n"
     ]
    }
   ],
   "source": [
    "array=np.array([1,2,3])\n",
    "for x in array:\n",
    "    print(x)"
   ]
  },
  {
   "cell_type": "code",
   "execution_count": 88,
   "id": "28c1c295",
   "metadata": {},
   "outputs": [],
   "source": [
    "#Iterating 2-D Arrays"
   ]
  },
  {
   "cell_type": "code",
   "execution_count": 89,
   "id": "4c452193",
   "metadata": {},
   "outputs": [
    {
     "name": "stdout",
     "output_type": "stream",
     "text": [
      "[1 2 3]\n",
      "[4 5 6]\n"
     ]
    }
   ],
   "source": [
    "array=np.array([[1,2,3],[4,5,6]])\n",
    "for x in array:\n",
    "    print(x)"
   ]
  },
  {
   "cell_type": "code",
   "execution_count": 90,
   "id": "4a9420e6",
   "metadata": {},
   "outputs": [
    {
     "name": "stdout",
     "output_type": "stream",
     "text": [
      "1\n",
      "2\n",
      "3\n",
      "4\n",
      "5\n",
      "6\n"
     ]
    }
   ],
   "source": [
    "array=np.array([[1,2,3],[4,5,6]])\n",
    "for x in array:\n",
    "    for y in x:\n",
    "        print(y)"
   ]
  },
  {
   "cell_type": "code",
   "execution_count": 91,
   "id": "d2f25dea",
   "metadata": {},
   "outputs": [],
   "source": [
    "#Iterating 3-D Arrays"
   ]
  },
  {
   "cell_type": "code",
   "execution_count": 92,
   "id": "84ccffdb",
   "metadata": {},
   "outputs": [
    {
     "name": "stdout",
     "output_type": "stream",
     "text": [
      "[[1 2 3]\n",
      " [4 5 6]]\n",
      "[[ 7  8  9]\n",
      " [10 11 12]]\n"
     ]
    }
   ],
   "source": [
    "array=np.array([[[1,2,3],[4,5,6]],[[7,8,9],[10,11,12]]])\n",
    "for x in array:\n",
    "    print(x)"
   ]
  },
  {
   "cell_type": "code",
   "execution_count": 94,
   "id": "245b6f5b",
   "metadata": {},
   "outputs": [
    {
     "name": "stdout",
     "output_type": "stream",
     "text": [
      "1\n",
      "2\n",
      "3\n",
      "4\n",
      "5\n",
      "6\n",
      "7\n",
      "8\n",
      "9\n",
      "10\n",
      "11\n",
      "12\n"
     ]
    }
   ],
   "source": [
    "array=np.array([[[1,2,3],[4,5,6]],[[7,8,9],[10,11,12]]])\n",
    "for x in array:\n",
    "    for y in x:\n",
    "        for z in y:\n",
    "            print(z)"
   ]
  },
  {
   "cell_type": "code",
   "execution_count": 95,
   "id": "ccab6551",
   "metadata": {},
   "outputs": [],
   "source": [
    "#Iterating Arrays Using nditer()"
   ]
  },
  {
   "cell_type": "code",
   "execution_count": 96,
   "id": "169f1c37",
   "metadata": {},
   "outputs": [
    {
     "name": "stdout",
     "output_type": "stream",
     "text": [
      "1\n",
      "2\n",
      "3\n",
      "4\n",
      "5\n",
      "6\n",
      "7\n",
      "8\n"
     ]
    }
   ],
   "source": [
    "array = np.array([[[1, 2], [3, 4]], [[5, 6], [7, 8]]])\n",
    "for x in np.nditer(array):\n",
    "  print(x)"
   ]
  },
  {
   "cell_type": "code",
   "execution_count": 100,
   "id": "ba2515c7",
   "metadata": {},
   "outputs": [
    {
     "name": "stdout",
     "output_type": "stream",
     "text": [
      "[1 2 3 4 5 6]\n"
     ]
    }
   ],
   "source": [
    "array_1=np.array([1,2,3])\n",
    "array_2=np.array([4,5,6])\n",
    "array_new=np.concatenate((array_1,array_2))\n",
    "print(array_new)"
   ]
  },
  {
   "cell_type": "code",
   "execution_count": 103,
   "id": "44c8efaf",
   "metadata": {},
   "outputs": [
    {
     "name": "stdout",
     "output_type": "stream",
     "text": [
      "[[1 2 5 6]\n",
      " [3 4 7 8]]\n"
     ]
    }
   ],
   "source": [
    "arr1 = np.array([[1, 2], [3, 4]])\n",
    "\n",
    "arr2 = np.array([[5, 6], [7, 8]])\n",
    "\n",
    "arr = np.concatenate((arr1, arr2), axis=1)\n",
    "\n",
    "print(arr)\n"
   ]
  },
  {
   "cell_type": "code",
   "execution_count": 104,
   "id": "77912fd8",
   "metadata": {},
   "outputs": [],
   "source": [
    "#Joining Arrays Using Stack Functions"
   ]
  },
  {
   "cell_type": "code",
   "execution_count": 105,
   "id": "c1a0eb61",
   "metadata": {},
   "outputs": [
    {
     "name": "stdout",
     "output_type": "stream",
     "text": [
      "[[1 4]\n",
      " [2 5]\n",
      " [3 6]]\n"
     ]
    }
   ],
   "source": [
    "array_1=np.array([1,2,3])\n",
    "array_2=np.array([4,5,6])\n",
    "array_new=np.stack((array_1,array_2),axis=1)\n",
    "print(array_new)"
   ]
  },
  {
   "cell_type": "code",
   "execution_count": 107,
   "id": "eb98913a",
   "metadata": {},
   "outputs": [],
   "source": [
    "#Stacking Along Rows"
   ]
  },
  {
   "cell_type": "code",
   "execution_count": 106,
   "id": "d78c0df3",
   "metadata": {},
   "outputs": [
    {
     "name": "stdout",
     "output_type": "stream",
     "text": [
      "[1 2 3 4 5 6]\n"
     ]
    }
   ],
   "source": [
    "arr1 = np.array([1, 2, 3])\n",
    "\n",
    "arr2 = np.array([4, 5, 6])\n",
    "\n",
    "arr = np.hstack((arr1, arr2))\n",
    "\n",
    "print(arr)"
   ]
  },
  {
   "cell_type": "code",
   "execution_count": 108,
   "id": "f673fade",
   "metadata": {},
   "outputs": [],
   "source": [
    "#Stacking Along Columns"
   ]
  },
  {
   "cell_type": "code",
   "execution_count": 109,
   "id": "d0eead2c",
   "metadata": {},
   "outputs": [
    {
     "name": "stdout",
     "output_type": "stream",
     "text": [
      "[[1 2 3]\n",
      " [4 5 6]]\n"
     ]
    }
   ],
   "source": [
    "arr1 = np.array([1, 2, 3])\n",
    "\n",
    "arr2 = np.array([4, 5, 6])\n",
    "\n",
    "arr = np.vstack((arr1, arr2))\n",
    "\n",
    "print(arr)"
   ]
  },
  {
   "cell_type": "code",
   "execution_count": 113,
   "id": "bdc934f8",
   "metadata": {},
   "outputs": [
    {
     "data": {
      "text/plain": [
       "dtype('int32')"
      ]
     },
     "execution_count": 113,
     "metadata": {},
     "output_type": "execute_result"
    }
   ],
   "source": [
    "arr.dtype"
   ]
  },
  {
   "cell_type": "code",
   "execution_count": 114,
   "id": "27e4ae6c",
   "metadata": {},
   "outputs": [
    {
     "data": {
      "text/plain": [
       "(2, 3)"
      ]
     },
     "execution_count": 114,
     "metadata": {},
     "output_type": "execute_result"
    }
   ],
   "source": [
    "arr.shape"
   ]
  },
  {
   "cell_type": "code",
   "execution_count": 115,
   "id": "3ea709e7",
   "metadata": {},
   "outputs": [
    {
     "name": "stdout",
     "output_type": "stream",
     "text": [
      "[[[1 4]\n",
      "  [2 5]\n",
      "  [3 6]]]\n"
     ]
    }
   ],
   "source": [
    "arr1 = np.array([1, 2, 3])\n",
    "\n",
    "arr2 = np.array([4, 5, 6])\n",
    "\n",
    "arr = np.dstack((arr1, arr2))\n",
    "\n",
    "print(arr)"
   ]
  },
  {
   "cell_type": "code",
   "execution_count": 120,
   "id": "73819332",
   "metadata": {},
   "outputs": [
    {
     "name": "stdout",
     "output_type": "stream",
     "text": [
      "[array([1, 2]), array([3, 4]), array([5, 6])]\n"
     ]
    }
   ],
   "source": [
    "array=np.array([1,2,3,4,5,6])\n",
    "new_array=np.array_split(array,3)\n",
    "print(new_array)"
   ]
  },
  {
   "cell_type": "code",
   "execution_count": 121,
   "id": "ced5a661",
   "metadata": {},
   "outputs": [
    {
     "data": {
      "text/plain": [
       "array([1, 2])"
      ]
     },
     "execution_count": 121,
     "metadata": {},
     "output_type": "execute_result"
    }
   ],
   "source": [
    "new_array[0]"
   ]
  },
  {
   "cell_type": "code",
   "execution_count": 122,
   "id": "61af54db",
   "metadata": {},
   "outputs": [
    {
     "data": {
      "text/plain": [
       "array([3, 4])"
      ]
     },
     "execution_count": 122,
     "metadata": {},
     "output_type": "execute_result"
    }
   ],
   "source": [
    "new_array[1]"
   ]
  },
  {
   "cell_type": "code",
   "execution_count": 123,
   "id": "ca55d3a1",
   "metadata": {},
   "outputs": [
    {
     "data": {
      "text/plain": [
       "array([5, 6])"
      ]
     },
     "execution_count": 123,
     "metadata": {},
     "output_type": "execute_result"
    }
   ],
   "source": [
    "new_array[2]"
   ]
  },
  {
   "cell_type": "code",
   "execution_count": 124,
   "id": "73c9b1cc",
   "metadata": {},
   "outputs": [],
   "source": [
    "#Splitting 2-D Arrays"
   ]
  },
  {
   "cell_type": "code",
   "execution_count": 125,
   "id": "cd966216",
   "metadata": {},
   "outputs": [
    {
     "data": {
      "text/plain": [
       "array([[ 1,  2],\n",
       "       [ 3,  4],\n",
       "       [ 5,  6],\n",
       "       [ 7,  8],\n",
       "       [ 9, 10],\n",
       "       [11, 12]])"
      ]
     },
     "execution_count": 125,
     "metadata": {},
     "output_type": "execute_result"
    }
   ],
   "source": [
    "array=np.array([[1,2],[3,4],[5,6],[7,8],[9,10],[11,12]])\n",
    "array"
   ]
  },
  {
   "cell_type": "code",
   "execution_count": 127,
   "id": "b568e0f3",
   "metadata": {},
   "outputs": [],
   "source": [
    "new_array=np.array_split(array,3)"
   ]
  },
  {
   "cell_type": "code",
   "execution_count": 128,
   "id": "5e30238f",
   "metadata": {},
   "outputs": [
    {
     "data": {
      "text/plain": [
       "[array([[1, 2],\n",
       "        [3, 4]]),\n",
       " array([[5, 6],\n",
       "        [7, 8]]),\n",
       " array([[ 9, 10],\n",
       "        [11, 12]])]"
      ]
     },
     "execution_count": 128,
     "metadata": {},
     "output_type": "execute_result"
    }
   ],
   "source": [
    "new_array"
   ]
  },
  {
   "cell_type": "raw",
   "id": "5f55b802",
   "metadata": {},
   "source": []
  },
  {
   "cell_type": "code",
   "execution_count": 129,
   "id": "c08de92f",
   "metadata": {},
   "outputs": [],
   "source": [
    "array = np.array([[1, 2, 3], [4, 5, 6], [7, 8, 9], [10, 11, 12], [13, 14, 15], [16, 17, 18]])"
   ]
  },
  {
   "cell_type": "code",
   "execution_count": 133,
   "id": "193e56ec",
   "metadata": {},
   "outputs": [
    {
     "name": "stdout",
     "output_type": "stream",
     "text": [
      "[array([[ 1],\n",
      "       [ 4],\n",
      "       [ 7],\n",
      "       [10],\n",
      "       [13],\n",
      "       [16]]), array([[ 2],\n",
      "       [ 5],\n",
      "       [ 8],\n",
      "       [11],\n",
      "       [14],\n",
      "       [17]]), array([[ 3],\n",
      "       [ 6],\n",
      "       [ 9],\n",
      "       [12],\n",
      "       [15],\n",
      "       [18]])]\n"
     ]
    }
   ],
   "source": [
    "new_array=np.array_split(array, 3, axis=1)\n",
    "print(new_array)"
   ]
  },
  {
   "cell_type": "code",
   "execution_count": 134,
   "id": "e825556f",
   "metadata": {},
   "outputs": [
    {
     "name": "stdout",
     "output_type": "stream",
     "text": [
      "[array([[ 1],\n",
      "       [ 4],\n",
      "       [ 7],\n",
      "       [10],\n",
      "       [13],\n",
      "       [16]]), array([[ 2],\n",
      "       [ 5],\n",
      "       [ 8],\n",
      "       [11],\n",
      "       [14],\n",
      "       [17]]), array([[ 3],\n",
      "       [ 6],\n",
      "       [ 9],\n",
      "       [12],\n",
      "       [15],\n",
      "       [18]])]\n"
     ]
    }
   ],
   "source": [
    "arr = np.array([[1, 2, 3], [4, 5, 6], [7, 8, 9], [10, 11, 12], [13, 14, 15], [16, 17, 18]])\n",
    "\n",
    "newarr = np.hsplit(arr, 3)\n",
    "\n",
    "print(newarr)\n"
   ]
  },
  {
   "cell_type": "code",
   "execution_count": 135,
   "id": "cbf919fa",
   "metadata": {},
   "outputs": [
    {
     "name": "stdout",
     "output_type": "stream",
     "text": [
      "[array([[1, 2, 3],\n",
      "       [4, 5, 6]]), array([[ 7,  8,  9],\n",
      "       [10, 11, 12]]), array([[13, 14, 15],\n",
      "       [16, 17, 18]])]\n"
     ]
    }
   ],
   "source": [
    "arr = np.array([[1, 2, 3], [4, 5, 6], [7, 8, 9], [10, 11, 12], [13, 14, 15], [16, 17, 18]])\n",
    "\n",
    "newarr = np.vsplit(arr, 3)\n",
    "\n",
    "print(newarr)\n"
   ]
  },
  {
   "cell_type": "markdown",
   "id": "5cff13de",
   "metadata": {},
   "source": [
    "# Searching Arrays"
   ]
  },
  {
   "cell_type": "code",
   "execution_count": 140,
   "id": "95298fea",
   "metadata": {},
   "outputs": [
    {
     "name": "stdout",
     "output_type": "stream",
     "text": [
      "(array([3, 4, 6, 7], dtype=int64),)\n"
     ]
    }
   ],
   "source": [
    "array=np.array([1,2,3,4,4,5,4,4])\n",
    "x=np.where(array==4)\n",
    "print(x)"
   ]
  },
  {
   "cell_type": "code",
   "execution_count": 141,
   "id": "3fdd3c69",
   "metadata": {},
   "outputs": [
    {
     "name": "stdout",
     "output_type": "stream",
     "text": [
      "(array([1, 3, 4, 6, 7], dtype=int64),)\n"
     ]
    }
   ],
   "source": [
    "array=np.array([1,2,3,4,4,5,4,4])\n",
    "x=np.where(array%2==0)\n",
    "print(x)"
   ]
  },
  {
   "cell_type": "code",
   "execution_count": 142,
   "id": "e17bf552",
   "metadata": {},
   "outputs": [
    {
     "name": "stdout",
     "output_type": "stream",
     "text": [
      "(array([0, 2, 5], dtype=int64),)\n"
     ]
    }
   ],
   "source": [
    "y=np.where(array%2==1)\n",
    "print(y)"
   ]
  },
  {
   "cell_type": "code",
   "execution_count": 143,
   "id": "d161609b",
   "metadata": {},
   "outputs": [],
   "source": [
    "#Search Sorted"
   ]
  },
  {
   "cell_type": "code",
   "execution_count": 145,
   "id": "df3026a0",
   "metadata": {},
   "outputs": [
    {
     "name": "stdout",
     "output_type": "stream",
     "text": [
      "0\n"
     ]
    }
   ],
   "source": [
    "array=np.array([1,3,4,5,6])\n",
    "x=np.searchsorted(array,1)\n",
    "print(x)"
   ]
  },
  {
   "cell_type": "code",
   "execution_count": 149,
   "id": "d245d699",
   "metadata": {},
   "outputs": [
    {
     "name": "stdout",
     "output_type": "stream",
     "text": [
      "2\n"
     ]
    }
   ],
   "source": [
    "array=np.array([1,3,4,5,6])\n",
    "x=np.searchsorted(array,3,side='right')\n",
    "print(x)"
   ]
  },
  {
   "cell_type": "code",
   "execution_count": 150,
   "id": "c7ee6b89",
   "metadata": {},
   "outputs": [
    {
     "name": "stdout",
     "output_type": "stream",
     "text": [
      "[1 2 3]\n"
     ]
    }
   ],
   "source": [
    "arr = np.array([1, 3, 5, 7])\n",
    "\n",
    "x = np.searchsorted(arr, [2, 4, 6])\n",
    "\n",
    "print(x)"
   ]
  },
  {
   "cell_type": "markdown",
   "id": "025e42a9",
   "metadata": {},
   "source": [
    "# Sorting Arrays"
   ]
  },
  {
   "cell_type": "code",
   "execution_count": 151,
   "id": "9228daeb",
   "metadata": {},
   "outputs": [
    {
     "name": "stdout",
     "output_type": "stream",
     "text": [
      "[0 1 2 3]\n"
     ]
    }
   ],
   "source": [
    "array=np.array([3,2,1,0])\n",
    "print(np.sort(array))"
   ]
  },
  {
   "cell_type": "code",
   "execution_count": 152,
   "id": "9b84d1b0",
   "metadata": {},
   "outputs": [
    {
     "name": "stdout",
     "output_type": "stream",
     "text": [
      "['apple' 'banana' 'cherry']\n"
     ]
    }
   ],
   "source": [
    "arr = np.array(['banana', 'cherry', 'apple'])\n",
    "\n",
    "print(np.sort(arr))\n"
   ]
  },
  {
   "cell_type": "code",
   "execution_count": 153,
   "id": "567c1b1d",
   "metadata": {},
   "outputs": [
    {
     "name": "stdout",
     "output_type": "stream",
     "text": [
      "[False  True  True]\n"
     ]
    }
   ],
   "source": [
    "arr = np.array([True, False, True])\n",
    "\n",
    "print(np.sort(arr))\n"
   ]
  },
  {
   "cell_type": "code",
   "execution_count": 154,
   "id": "f84cfa18",
   "metadata": {},
   "outputs": [],
   "source": [
    "#Sorting a 2-D Array"
   ]
  },
  {
   "cell_type": "code",
   "execution_count": 155,
   "id": "e7f96f90",
   "metadata": {},
   "outputs": [
    {
     "name": "stdout",
     "output_type": "stream",
     "text": [
      "[[2 3 4]\n",
      " [0 1 5]]\n"
     ]
    }
   ],
   "source": [
    "array=np.array([[3,2,4],[5,0,1]])\n",
    "print(np.sort(array))"
   ]
  },
  {
   "cell_type": "markdown",
   "id": "bdc5fc81",
   "metadata": {},
   "source": [
    "# NumPy Filter Array"
   ]
  },
  {
   "cell_type": "code",
   "execution_count": 156,
   "id": "0c4b4b2e",
   "metadata": {},
   "outputs": [
    {
     "name": "stdout",
     "output_type": "stream",
     "text": [
      "[41 43]\n"
     ]
    }
   ],
   "source": [
    "array=np.array([41,42,43,44])\n",
    "x=[True,False,True,False]\n",
    "array_new=array[x]\n",
    "print(array_new)"
   ]
  },
  {
   "cell_type": "code",
   "execution_count": 159,
   "id": "021c8155",
   "metadata": {},
   "outputs": [],
   "source": [
    "array=np.array([41,42,43,44])\n",
    "Filtter_array=[]\n",
    "for n in array:\n",
    "    if n>42:\n",
    "        Filtter_array.append(True)\n",
    "    else:\n",
    "        Filtter_array.append(False)\n",
    "            \n",
    "            "
   ]
  },
  {
   "cell_type": "code",
   "execution_count": 160,
   "id": "467e8aef",
   "metadata": {},
   "outputs": [
    {
     "name": "stdout",
     "output_type": "stream",
     "text": [
      "[False, False, True, True]\n"
     ]
    }
   ],
   "source": [
    "print(Filtter_array)"
   ]
  },
  {
   "cell_type": "code",
   "execution_count": 161,
   "id": "01b057e7",
   "metadata": {},
   "outputs": [],
   "source": [
    "new_array=array[Filtter_array]"
   ]
  },
  {
   "cell_type": "code",
   "execution_count": 162,
   "id": "d0081228",
   "metadata": {},
   "outputs": [
    {
     "name": "stdout",
     "output_type": "stream",
     "text": [
      "[43 44]\n"
     ]
    }
   ],
   "source": [
    "print(new_array)"
   ]
  },
  {
   "cell_type": "code",
   "execution_count": 163,
   "id": "e230f6e3",
   "metadata": {},
   "outputs": [],
   "source": [
    "array=np.array([1,2,3,4,5,6,7])\n",
    "Filtter_array=[]"
   ]
  },
  {
   "cell_type": "code",
   "execution_count": 164,
   "id": "1801d09a",
   "metadata": {},
   "outputs": [],
   "source": [
    "for i in array:\n",
    "    if i%2==0:\n",
    "        Filtter_array.append(True)\n",
    "    else:\n",
    "        Filtter_array.append(False)\n",
    "        \n",
    "    "
   ]
  },
  {
   "cell_type": "code",
   "execution_count": 165,
   "id": "70b39947",
   "metadata": {},
   "outputs": [
    {
     "data": {
      "text/plain": [
       "[False, True, False, True, False, True, False]"
      ]
     },
     "execution_count": 165,
     "metadata": {},
     "output_type": "execute_result"
    }
   ],
   "source": [
    "Filtter_array"
   ]
  },
  {
   "cell_type": "code",
   "execution_count": 172,
   "id": "004b3025",
   "metadata": {},
   "outputs": [
    {
     "name": "stdout",
     "output_type": "stream",
     "text": [
      "[False False  True  True]\n",
      "[43 44]\n"
     ]
    }
   ],
   "source": [
    "arr = np.array([41, 42, 43, 44])\n",
    "\n",
    "filter_arr = arr > 42\n",
    "\n",
    "newarr = arr[filter_arr]\n",
    "\n",
    "print(filter_arr)\n",
    "print(newarr)"
   ]
  },
  {
   "cell_type": "code",
   "execution_count": null,
   "id": "d968411a",
   "metadata": {},
   "outputs": [],
   "source": []
  },
  {
   "cell_type": "markdown",
   "id": "2dc70ce6",
   "metadata": {},
   "source": [
    "# Random Numbers in NumPy"
   ]
  },
  {
   "cell_type": "code",
   "execution_count": 174,
   "id": "dcbfb327",
   "metadata": {},
   "outputs": [
    {
     "name": "stdout",
     "output_type": "stream",
     "text": [
      "37\n"
     ]
    }
   ],
   "source": [
    "from numpy import random\n",
    "x=random.randint(50)\n",
    "print(x)"
   ]
  },
  {
   "cell_type": "code",
   "execution_count": 177,
   "id": "ff97cd1f",
   "metadata": {},
   "outputs": [
    {
     "name": "stdout",
     "output_type": "stream",
     "text": [
      "[0.67219776 0.82584241 0.81383681 0.67971884]\n"
     ]
    }
   ],
   "source": [
    "x=random.rand(4)\n",
    "print(x)"
   ]
  },
  {
   "cell_type": "code",
   "execution_count": 179,
   "id": "df8131f7",
   "metadata": {},
   "outputs": [
    {
     "name": "stdout",
     "output_type": "stream",
     "text": [
      "[87 80 79 14 19 54 86 34 20 81]\n"
     ]
    }
   ],
   "source": [
    "x=random.randint(100,size=(10))\n",
    "print(x)"
   ]
  },
  {
   "cell_type": "code",
   "execution_count": 180,
   "id": "83055bdc",
   "metadata": {},
   "outputs": [
    {
     "name": "stdout",
     "output_type": "stream",
     "text": [
      "[[67 64 28 52 12 98  0 29]\n",
      " [90 89  6 81 82 63 28 96]\n",
      " [ 3 15 50 14 72  8 51 67]\n",
      " [ 3 67 79 86 94 76  8 94]\n",
      " [27 74 27 64 42 33 53 99]\n",
      " [ 1 13 94 10  2 78 28 62]\n",
      " [33  1 71  8 73 68 90 30]\n",
      " [75 75 84 23 98  5 80  8]\n",
      " [78 35  7 64 14 81 57 40]\n",
      " [64 66 13 19 93 58 86 66]]\n"
     ]
    }
   ],
   "source": [
    "x=random.randint(100,size=(10,8))\n",
    "print(x)"
   ]
  },
  {
   "cell_type": "code",
   "execution_count": 181,
   "id": "ac0fcbc0",
   "metadata": {},
   "outputs": [
    {
     "name": "stdout",
     "output_type": "stream",
     "text": [
      "[[0.01191786 0.64814727 0.97860445 0.66808676 0.69831546]\n",
      " [0.8526434  0.94804922 0.73119425 0.56296634 0.63184702]\n",
      " [0.24212355 0.73038882 0.52415694 0.54647559 0.03042178]\n",
      " [0.22262746 0.99800179 0.65597058 0.26268932 0.7099483 ]]\n"
     ]
    }
   ],
   "source": [
    "x=random.rand(4,5)\n",
    "print(x)"
   ]
  },
  {
   "cell_type": "code",
   "execution_count": 182,
   "id": "64aa8e96",
   "metadata": {},
   "outputs": [],
   "source": [
    "#Generate Random Number From Array"
   ]
  },
  {
   "cell_type": "code",
   "execution_count": 184,
   "id": "a2ee1055",
   "metadata": {},
   "outputs": [
    {
     "name": "stdout",
     "output_type": "stream",
     "text": [
      "3\n"
     ]
    }
   ],
   "source": [
    "x = random.choice([3, 5, 7, 9])\n",
    "print(x)"
   ]
  },
  {
   "cell_type": "code",
   "execution_count": 185,
   "id": "19b42601",
   "metadata": {},
   "outputs": [
    {
     "name": "stdout",
     "output_type": "stream",
     "text": [
      "[[5 9 7 7 3]\n",
      " [7 3 5 7 9]\n",
      " [5 9 7 7 7]]\n"
     ]
    }
   ],
   "source": [
    "x = random.choice([3, 5, 7, 9],size=(3,5))\n",
    "print(x)"
   ]
  },
  {
   "cell_type": "markdown",
   "id": "2dffecc6",
   "metadata": {},
   "source": [
    "# Random Data Distribution\n"
   ]
  },
  {
   "cell_type": "code",
   "execution_count": 188,
   "id": "88f9a7a5",
   "metadata": {},
   "outputs": [
    {
     "name": "stdout",
     "output_type": "stream",
     "text": [
      "[7 5 5 7 7 7 3 5 3 7 7 7 5 7 5 5 5 7 7 7 5 7 7 3 7 7 7 5 5 7 7 7 5 7 5 7 7\n",
      " 5 5 3 3 5 5 7 3 7 7 7 7 7 7 7 5 7 7 5 5 5 7 7 7 5 7 7 5 7 5 5 5 7 5 5 3 7\n",
      " 5 3 7 5 7 7 3 7 5 7 5 7 3 7 7 3 3 3 7 7 7 5 7 5 3 7]\n"
     ]
    }
   ],
   "source": [
    "x = random.choice([3, 5, 7, 9], p=[0.1, 0.3, 0.6, 0.0], size=(100))\n",
    "\n",
    "print(x)"
   ]
  },
  {
   "cell_type": "code",
   "execution_count": 189,
   "id": "53f4a752",
   "metadata": {},
   "outputs": [
    {
     "name": "stdout",
     "output_type": "stream",
     "text": [
      "[[5 3 7 5 7]\n",
      " [7 7 7 7 3]\n",
      " [7 7 7 5 5]]\n"
     ]
    }
   ],
   "source": [
    "x = random.choice([3, 5, 7, 9], p=[0.1, 0.3, 0.6, 0.0], size=(3,5))\n",
    "\n",
    "print(x)"
   ]
  },
  {
   "cell_type": "markdown",
   "id": "aa09a725",
   "metadata": {},
   "source": [
    "# Random Permutations\n"
   ]
  },
  {
   "cell_type": "code",
   "execution_count": 192,
   "id": "6a0666a4",
   "metadata": {},
   "outputs": [
    {
     "name": "stdout",
     "output_type": "stream",
     "text": [
      "[3 5 2 1 4]\n"
     ]
    }
   ],
   "source": [
    "array=np.array([1,2,3,4,5])\n",
    "random.shuffle(array)\n",
    "print(array)"
   ]
  },
  {
   "cell_type": "code",
   "execution_count": 196,
   "id": "f9cc24a3",
   "metadata": {},
   "outputs": [
    {
     "name": "stdout",
     "output_type": "stream",
     "text": [
      "[3 2 4 1 5]\n"
     ]
    }
   ],
   "source": [
    "array=np.array([1,2,3,4,5])\n",
    "print(random.permutation(array))\n"
   ]
  },
  {
   "cell_type": "code",
   "execution_count": null,
   "id": "00a1dfd1",
   "metadata": {},
   "outputs": [],
   "source": []
  },
  {
   "cell_type": "markdown",
   "id": "fa60b7b5",
   "metadata": {},
   "source": [
    "# Visualize Distributions With Seaborn"
   ]
  },
  {
   "cell_type": "code",
   "execution_count": 201,
   "id": "5b8f3b27",
   "metadata": {},
   "outputs": [],
   "source": [
    "import seaborn as sns\n",
    "import matplotlib.pyplot as plt\n"
   ]
  },
  {
   "cell_type": "code",
   "execution_count": 204,
   "id": "e88bff6b",
   "metadata": {
    "scrolled": true
   },
   "outputs": [
    {
     "name": "stderr",
     "output_type": "stream",
     "text": [
      "C:\\Users\\Nimes\\AppData\\Local\\Temp\\ipykernel_15788\\230963844.py:1: UserWarning: \n",
      "\n",
      "`distplot` is a deprecated function and will be removed in seaborn v0.14.0.\n",
      "\n",
      "Please adapt your code to use either `displot` (a figure-level function with\n",
      "similar flexibility) or `histplot` (an axes-level function for histograms).\n",
      "\n",
      "For a guide to updating your code to use the new functions, please see\n",
      "https://gist.github.com/mwaskom/de44147ed2974457ad6372750bbe5751\n",
      "\n",
      "  sns.distplot([0,1,2,3,4,5])\n"
     ]
    },
    {
     "data": {
      "image/png": "[encoded data removed]",
      "text/plain": [
       "<Figure size 640x480 with 1 Axes>"
      ]
     },
     "metadata": {},
     "output_type": "display_data"
    }
   ],
   "source": [
    "sns.distplot([0,1,2,3,4,5])\n",
    "plt.show()"
   ]
  },
  {
   "cell_type": "code",
   "execution_count": 205,
   "id": "e20a3582",
   "metadata": {},
   "outputs": [
    {
     "name": "stderr",
     "output_type": "stream",
     "text": [
      "C:\\Users\\Nimes\\AppData\\Local\\Temp\\ipykernel_15788\\299229084.py:1: UserWarning: \n",
      "\n",
      "`distplot` is a deprecated function and will be removed in seaborn v0.14.0.\n",
      "\n",
      "Please adapt your code to use either `displot` (a figure-level function with\n",
      "similar flexibility) or `kdeplot` (an axes-level function for kernel density plots).\n",
      "\n",
      "For a guide to updating your code to use the new functions, please see\n",
      "https://gist.github.com/mwaskom/de44147ed2974457ad6372750bbe5751\n",
      "\n",
      "  sns.distplot([0,1,2,3,4,5],hist=False)\n"
     ]
    },
    {
     "data": {
      "image/png": "[encoded data removed]",
      "text/plain": [
       "<Figure size 640x480 with 1 Axes>"
      ]
     },
     "metadata": {},
     "output_type": "display_data"
    }
   ],
   "source": [
    "sns.distplot([0,1,2,3,4,5],hist=False)\n",
    "plt.show()"
   ]
  },
  {
   "cell_type": "code",
   "execution_count": 208,
   "id": "6a9bb845",
   "metadata": {},
   "outputs": [
    {
     "name": "stdout",
     "output_type": "stream",
     "text": [
      "[[-0.53406366  0.46239574 -2.11766388]\n",
      " [ 0.54105782  0.20575248  1.4063389 ]]\n"
     ]
    }
   ],
   "source": [
    "from numpy import random\n",
    "x=random.normal(size=(2,3))\n",
    "print(x)"
   ]
  },
  {
   "cell_type": "code",
   "execution_count": 211,
   "id": "64ea576f",
   "metadata": {},
   "outputs": [],
   "source": [
    "#Generate a random normal distribution of size 2x3 with mean at 1 and standard deviation of 2:"
   ]
  },
  {
   "cell_type": "code",
   "execution_count": 212,
   "id": "bb521c62",
   "metadata": {},
   "outputs": [
    {
     "name": "stdout",
     "output_type": "stream",
     "text": [
      "[[ 1.45796169  0.13371072 -2.30298286]\n",
      " [ 2.00578898  0.74466842  2.37542146]]\n"
     ]
    }
   ],
   "source": [
    "x=random.normal(loc=1,scale=2,size=(2,3))\n",
    "print(x)"
   ]
  },
  {
   "cell_type": "code",
   "execution_count": 214,
   "id": "e2dea9b1",
   "metadata": {},
   "outputs": [],
   "source": [
    "#Visualization of Normal Distribution"
   ]
  },
  {
   "cell_type": "code",
   "execution_count": 215,
   "id": "19359e3d",
   "metadata": {},
   "outputs": [
    {
     "name": "stderr",
     "output_type": "stream",
     "text": [
      "C:\\Users\\Nimes\\AppData\\Local\\Temp\\ipykernel_15788\\3516999849.py:1: UserWarning: \n",
      "\n",
      "`distplot` is a deprecated function and will be removed in seaborn v0.14.0.\n",
      "\n",
      "Please adapt your code to use either `displot` (a figure-level function with\n",
      "similar flexibility) or `kdeplot` (an axes-level function for kernel density plots).\n",
      "\n",
      "For a guide to updating your code to use the new functions, please see\n",
      "https://gist.github.com/mwaskom/de44147ed2974457ad6372750bbe5751\n",
      "\n",
      "  sns.distplot(random.normal(size=1000),hist=False)\n"
     ]
    },
    {
     "data": {
      "image/png": "[encoded data removed]",
      "text/plain": [
       "<Figure size 640x480 with 1 Axes>"
      ]
     },
     "metadata": {},
     "output_type": "display_data"
    }
   ],
   "source": [
    "sns.distplot(random.normal(size=1000),hist=False)\n",
    "plt.show()"
   ]
  },
  {
   "cell_type": "markdown",
   "id": "db9f8016",
   "metadata": {},
   "source": [
    "# Binomial Distribution"
   ]
  },
  {
   "cell_type": "code",
   "execution_count": 216,
   "id": "d3d5d782",
   "metadata": {},
   "outputs": [],
   "source": [
    "from numpy import random\n",
    "x=random.binomial(n=10,p=0.5,size=10)"
   ]
  },
  {
   "cell_type": "code",
   "execution_count": 217,
   "id": "48845bcd",
   "metadata": {},
   "outputs": [
    {
     "name": "stdout",
     "output_type": "stream",
     "text": [
      "[3 4 5 2 6 5 5 7 4 7]\n"
     ]
    }
   ],
   "source": [
    "print(x)"
   ]
  },
  {
   "cell_type": "code",
   "execution_count": 218,
   "id": "eb5b5618",
   "metadata": {},
   "outputs": [],
   "source": [
    "#Visualization of Binomial Distribution"
   ]
  },
  {
   "cell_type": "code",
   "execution_count": 220,
   "id": "dd62c34e",
   "metadata": {},
   "outputs": [
    {
     "name": "stderr",
     "output_type": "stream",
     "text": [
      "C:\\Users\\Nimes\\AppData\\Local\\Temp\\ipykernel_15788\\3728753053.py:4: UserWarning: \n",
      "\n",
      "`distplot` is a deprecated function and will be removed in seaborn v0.14.0.\n",
      "\n",
      "Please adapt your code to use either `displot` (a figure-level function with\n",
      "similar flexibility) or `histplot` (an axes-level function for histograms).\n",
      "\n",
      "For a guide to updating your code to use the new functions, please see\n",
      "https://gist.github.com/mwaskom/de44147ed2974457ad6372750bbe5751\n",
      "\n",
      "  sns.distplot(random.binomial(n=10,p=0.5,size=1000),hist=True,kde=False)\n"
     ]
    },
    {
     "data": {
      "image/png": "[encoded data removed]",
      "text/plain": [
       "<Figure size 640x480 with 1 Axes>"
      ]
     },
     "metadata": {},
     "output_type": "display_data"
    }
   ],
   "source": [
    "from numpy import random\n",
    "import matplotlib.pyplot as plt\n",
    "import seaborn as sns\n",
    "sns.distplot(random.binomial(n=10,p=0.5,size=1000),hist=True,kde=False)\n",
    "plt.show()"
   ]
  },
  {
   "cell_type": "code",
   "execution_count": 221,
   "id": "e4997e66",
   "metadata": {},
   "outputs": [],
   "source": [
    "#Difference Between Normal and Binomial Distribution"
   ]
  },
  {
   "cell_type": "code",
   "execution_count": 227,
   "id": "083291f4",
   "metadata": {},
   "outputs": [],
   "source": [
    "x=random.normal(loc=50,scale=5,size=1000)\n",
    "y=random.binomial(n=50,p=0.5,size=1000)"
   ]
  },
  {
   "cell_type": "code",
   "execution_count": 229,
   "id": "841d8fad",
   "metadata": {},
   "outputs": [
    {
     "name": "stderr",
     "output_type": "stream",
     "text": [
      "C:\\Users\\Nimes\\AppData\\Local\\Temp\\ipykernel_15788\\4148044038.py:1: UserWarning: \n",
      "\n",
      "`distplot` is a deprecated function and will be removed in seaborn v0.14.0.\n",
      "\n",
      "Please adapt your code to use either `displot` (a figure-level function with\n",
      "similar flexibility) or `kdeplot` (an axes-level function for kernel density plots).\n",
      "\n",
      "For a guide to updating your code to use the new functions, please see\n",
      "https://gist.github.com/mwaskom/de44147ed2974457ad6372750bbe5751\n",
      "\n",
      "  sns.distplot(x,hist=False,label=\"normal\")\n",
      "C:\\Users\\Nimes\\AppData\\Local\\Temp\\ipykernel_15788\\4148044038.py:2: UserWarning: \n",
      "\n",
      "`distplot` is a deprecated function and will be removed in seaborn v0.14.0.\n",
      "\n",
      "Please adapt your code to use either `displot` (a figure-level function with\n",
      "similar flexibility) or `kdeplot` (an axes-level function for kernel density plots).\n",
      "\n",
      "For a guide to updating your code to use the new functions, please see\n",
      "https://gist.github.com/mwaskom/de44147ed2974457ad6372750bbe5751\n",
      "\n",
      "  sns.distplot(y,hist=False,label=\"binomial\")\n"
     ]
    },
    {
     "data": {
      "image/png": "[encoded data removed]",
      "text/plain": [
       "<Figure size 640x480 with 1 Axes>"
      ]
     },
     "metadata": {},
     "output_type": "display_data"
    }
   ],
   "source": [
    "sns.distplot(x,hist=False,label=\"normal\")\n",
    "sns.distplot(y,hist=False,label=\"binomial\")\n",
    "plt.show()"
   ]
  },
  {
   "cell_type": "code",
   "execution_count": 230,
   "id": "6d21adff",
   "metadata": {},
   "outputs": [
    {
     "name": "stderr",
     "output_type": "stream",
     "text": [
      "C:\\Users\\Nimes\\AppData\\Local\\Temp\\ipykernel_15788\\4261892727.py:5: UserWarning: \n",
      "\n",
      "`distplot` is a deprecated function and will be removed in seaborn v0.14.0.\n",
      "\n",
      "Please adapt your code to use either `displot` (a figure-level function with\n",
      "similar flexibility) or `kdeplot` (an axes-level function for kernel density plots).\n",
      "\n",
      "For a guide to updating your code to use the new functions, please see\n",
      "https://gist.github.com/mwaskom/de44147ed2974457ad6372750bbe5751\n",
      "\n",
      "  sns.distplot(random.normal(loc=50, scale=5, size=1000), hist=False, label='normal')\n",
      "C:\\Users\\Nimes\\AppData\\Local\\Temp\\ipykernel_15788\\4261892727.py:6: UserWarning: \n",
      "\n",
      "`distplot` is a deprecated function and will be removed in seaborn v0.14.0.\n",
      "\n",
      "Please adapt your code to use either `displot` (a figure-level function with\n",
      "similar flexibility) or `kdeplot` (an axes-level function for kernel density plots).\n",
      "\n",
      "For a guide to updating your code to use the new functions, please see\n",
      "https://gist.github.com/mwaskom/de44147ed2974457ad6372750bbe5751\n",
      "\n",
      "  sns.distplot(random.binomial(n=100, p=0.5, size=1000), hist=False, label='binomial')\n"
     ]
    },
    {
     "data": {
      "image/png": "[encoded data removed]",
      "text/plain": [
       "<Figure size 640x480 with 1 Axes>"
      ]
     },
     "metadata": {},
     "output_type": "display_data"
    }
   ],
   "source": [
    "from numpy import random\n",
    "import matplotlib.pyplot as plt\n",
    "import seaborn as sns\n",
    "\n",
    "sns.distplot(random.normal(loc=50, scale=5, size=1000), hist=False, label='normal')\n",
    "sns.distplot(random.binomial(n=100, p=0.5, size=1000), hist=False, label='binomial')\n",
    "\n",
    "plt.show()\n"
   ]
  },
  {
   "cell_type": "markdown",
   "id": "3bc9a20d",
   "metadata": {},
   "source": [
    "# Chi Square Distribution"
   ]
  },
  {
   "cell_type": "code",
   "execution_count": 231,
   "id": "be4faa16",
   "metadata": {},
   "outputs": [
    {
     "name": "stdout",
     "output_type": "stream",
     "text": [
      "[[3.37640913 0.88948786 2.93238614]\n",
      " [0.03943516 0.24333758 3.48455686]]\n"
     ]
    }
   ],
   "source": [
    "from numpy import random\n",
    "x=random.chisquare(df=2,size=(2,3))\n",
    "print(x)"
   ]
  },
  {
   "cell_type": "code",
   "execution_count": 232,
   "id": "6fab83ac",
   "metadata": {},
   "outputs": [
    {
     "name": "stdout",
     "output_type": "stream",
     "text": [
      "[5, 7, 9, 11]\n"
     ]
    }
   ],
   "source": [
    "x = [1, 2, 3, 4]\n",
    "y = [4, 5, 6, 7]\n",
    "z = []\n",
    "\n",
    "for i, j in zip(x, y):\n",
    "  z.append(i + j)\n",
    "print(z)"
   ]
  },
  {
   "cell_type": "code",
   "execution_count": 235,
   "id": "23813d35",
   "metadata": {},
   "outputs": [
    {
     "name": "stdout",
     "output_type": "stream",
     "text": [
      "[ 5  7  9 11]\n"
     ]
    }
   ],
   "source": [
    "import numpy as np\n",
    "\n",
    "x = [1, 2, 3, 4]\n",
    "y = [4, 5, 6, 7]\n",
    "z = np.add(x, y)\n",
    "\n",
    "print(z)"
   ]
  },
  {
   "cell_type": "code",
   "execution_count": null,
   "id": "af431423",
   "metadata": {},
   "outputs": [],
   "source": []
  }
 ],
 "metadata": {
  "kernelspec": {
   "display_name": "Python 3 (ipykernel)",
   "language": "python",
   "name": "python3"
  },
  "language_info": {
   "codemirror_mode": {
    "name": "ipython",
    "version": 3
   },
   "file_extension": ".py",
   "mimetype": "text/x-python",
   "name": "python",
   "nbconvert_exporter": "python",
   "pygments_lexer": "ipython3",
   "version": "3.10.9"
  }
 },
 "nbformat": 4,
 "nbformat_minor": 5
}
